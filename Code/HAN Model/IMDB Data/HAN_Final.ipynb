{
 "cells": [
  {
   "cell_type": "markdown",
   "metadata": {},
   "source": [
    "## Importing libraries"
   ]
  },
  {
   "cell_type": "code",
   "execution_count": 1,
   "metadata": {},
   "outputs": [
    {
     "name": "stderr",
     "output_type": "stream",
     "text": [
      "Using TensorFlow backend.\n"
     ]
    }
   ],
   "source": [
    "# Importing the relevant libraries\n",
    "import numpy as np\n",
    "\n",
    "from nltk import tokenize\n",
    "\n",
    "from keras import backend as K\n",
    "from keras import initializers, regularizers, constraints\n",
    "from keras.preprocessing.text import Tokenizer, text_to_word_sequence\n",
    "from keras.preprocessing.sequence import pad_sequences\n",
    "from keras.engine.topology import Layer, InputSpec\n",
    "from keras.layers import Embedding, Input, Dense, Bidirectional, LSTM, Layer, GRU, TimeDistributed\n",
    "from keras.models import Model\n",
    "from keras.layers.merge import concatenate\n",
    "from keras.callbacks import ModelCheckpoint, EarlyStopping\n",
    "import keras.callbacks\n",
    "\n",
    "\n",
    "import string\n",
    "import re\n",
    "import pandas as pd\n",
    "import collections\n",
    "import os\n",
    "import time\n",
    "\n",
    "import matplotlib.pyplot as plt\n",
    "plt.switch_backend('agg')\n",
    "%matplotlib inline"
   ]
  },
  {
   "cell_type": "markdown",
   "metadata": {},
   "source": [
    "## Data Load"
   ]
  },
  {
   "cell_type": "code",
   "execution_count": 2,
   "metadata": {},
   "outputs": [],
   "source": [
    "# We define a function to load the data\n",
    "def load_data(path_to_dir, dataset):\n",
    "    \n",
    "    '''\n",
    "    The loading procedure is different for the two datasets, therefore we add a parameter to the load \n",
    "    function that specifies the dataset to load\n",
    "    '''\n",
    "    \n",
    "    # Regular Expression to remove punctuation\n",
    "    Remove_punctuation = re.compile('[%s]' % re.escape(string.punctuation.replace('.',''))) #We leave the periods in since we want to split it into sentences\n",
    "    \n",
    "    if dataset == \"imdb\":\n",
    "        \n",
    "        train_pos = []\n",
    "        train_neg = []\n",
    "        test_pos = []\n",
    "        test_neg = []\n",
    "\n",
    "        for filename in os.listdir(path_to_dir+\"/train/pos/\"):\n",
    "            train_pos.append(open(path_to_dir+\"/train/pos/\"+filename,'r',encoding='utf-8').read())\n",
    "\n",
    "        for filename in os.listdir(path_to_dir+\"/train/neg/\"):\n",
    "            train_neg.append(open(path_to_dir+\"/train/neg/\"+filename,'r',encoding='utf-8').read())\n",
    "\n",
    "        for filename in os.listdir(path_to_dir+\"/test/pos/\"):\n",
    "            test_pos.append(open(path_to_dir+\"/test/pos/\"+filename,'r',encoding='utf-8').read())\n",
    "\n",
    "        for filename in os.listdir(path_to_dir+\"/test/neg/\"):\n",
    "            test_neg.append(open(path_to_dir+\"/test/neg/\"+filename,'r',encoding='utf-8').read())\n",
    "        \n",
    "        train_pos = [Remove_punctuation.sub('',i).lower() for i in train_pos]\n",
    "        train_neg = [Remove_punctuation.sub('',i).lower() for i in train_neg]\n",
    "        test_pos = [Remove_punctuation.sub('',i).lower() for i in test_pos]\n",
    "        test_neg = [Remove_punctuation.sub('',i).lower() for i in test_neg]\n",
    "        \n",
    "        #train_pos = [[sent for sent in review if len(sent)!=0] for review in train_pos]\n",
    "        #train_neg = [[sent for sent in review if len(sent)!=0] for review in train_pos]\n",
    "        #test_pos = [[sent for sent in review if len(sent)!=0] for review in train_pos]\n",
    "        #test_neg = [[sent for sent in review if len(sent)!=0] for review in train_pos]\n",
    "        \n",
    "        X_train = train_pos + train_neg\n",
    "        X_test = test_pos + test_neg\n",
    "        \n",
    "        Y_train = [1]*len(train_pos) + [0]*len(train_neg)\n",
    "        Y_test = [1]*len(test_pos) + [0]*len(test_neg)        \n",
    "        \n",
    "        return X_train, Y_train, X_test, Y_test\n",
    "        \n",
    "    if dataset == \"yelp\":\n",
    "        \n",
    "        Train_data = pd.read_csv(path_to_dir + \"Yelp_train_data.csv\")\n",
    "        Train_data = Train_data[Train_data['stars']!=3]\n",
    "        \n",
    "        X_train = Train_data['text']\n",
    "        X_train = list(X_train)\n",
    "        \n",
    "        Y_train = Train_data['stars']\n",
    "        Y_train = list(Y_train)\n",
    "        Y_train = [0 if i <= 3 else 1 for i in Y_train]\n",
    "        \n",
    "        Test_data =  pd.read_csv(path_to_dir + \"Yelp_test_data.csv\")\n",
    "        Test_data = Test_data[Test_data['stars']!=3]\n",
    "        \n",
    "        X_test = Test_data['text']\n",
    "        X_test = list(X_test)\n",
    "        \n",
    "        Y_test = Test_data['stars']\n",
    "        Y_test = list(Y_test)\n",
    "        Y_test = [0 if i <=3 else 1 for i in Y_test]\n",
    "        \n",
    "        X_train = [Remove_punctuation.sub('',i).lower() for i in X_train]\n",
    "        X_test = [Remove_punctuation.sub('',i).lower() for i in X_test]\n",
    "        \n",
    "        #X_train = [[sent for sent in review if len(sent)!=0] for review in X_train]\n",
    "        #X_test = [[sent for sent in review if len(sent)!=0] for review in X_test]\n",
    "               \n",
    "        return X_train, Y_train, X_test, Y_test       \n"
   ]
  },
  {
   "cell_type": "code",
   "execution_count": 3,
   "metadata": {},
   "outputs": [],
   "source": [
    "X_train, Y_train, X_test, Y_test = load_data('../../../Data/IMDB Stanford/', \"imdb\")"
   ]
  },
  {
   "cell_type": "markdown",
   "metadata": {},
   "source": [
    "## Data Pre Processing"
   ]
  },
  {
   "cell_type": "code",
   "execution_count": 4,
   "metadata": {},
   "outputs": [],
   "source": [
    "# Converting the reviews into sentences\n",
    "X_train_sentences = [review.split('.') for review in X_train]\n",
    "X_train_sentences = [[sentence for sentence in review if len(sentence)!=0] for review in X_train_sentences]\n",
    "\n",
    "X_test_sentences = [review.split('.') for review in X_test]\n",
    "X_test_sentences = [[sentence for sentence in review if len(sentence)!=0] for review in X_test_sentences]\n",
    "\n"
   ]
  },
  {
   "cell_type": "code",
   "execution_count": 5,
   "metadata": {},
   "outputs": [],
   "source": [
    "# Converting the words into tokens\n",
    "\n",
    "tokenizer = Tokenizer()\n",
    "tokenizer.fit_on_texts(X_train)\n",
    "word_index = tokenizer.word_index"
   ]
  },
  {
   "cell_type": "code",
   "execution_count": 6,
   "metadata": {},
   "outputs": [],
   "source": [
    "# Setting up parameters for the word embeddings\n",
    "\n",
    "Max_Words = 20000 #Max words in the vocabulary\n",
    "Max_Sequence_length = 100 #Max number of words in a sentence\n",
    "Embedding_dimension = 100 #Using 100 dimensional Glove data\n",
    "Max_Sentence_length = 15\n"
   ]
  },
  {
   "cell_type": "code",
   "execution_count": 7,
   "metadata": {},
   "outputs": [
    {
     "name": "stdout",
     "output_type": "stream",
     "text": [
      "Total 107359 unique tokens.\n"
     ]
    }
   ],
   "source": [
    "# Converting the words into tokens\n",
    "\n",
    "tokenizer = Tokenizer()\n",
    "tokenizer.fit_on_texts(X_train)\n",
    "word_index = tokenizer.word_index\n",
    "\n",
    "print('Total %s unique tokens.' % len(word_index))"
   ]
  },
  {
   "cell_type": "code",
   "execution_count": 8,
   "metadata": {},
   "outputs": [],
   "source": [
    "Train_data = np.zeros((len(X_train), Max_Sentence_length, Max_Sequence_length), dtype='int32')\n",
    "#(Number of reviews, number of sentences per review = 15, number of words per sentence = 100)\n",
    "\n",
    "for i, sentences in enumerate(X_train_sentences):#Taking a single review(list of sentences) from a list of reviews\n",
    "    for j, sent in enumerate(sentences):#Iterating through sentences within a review. sent = a sentence in a single review\n",
    "        if j < Max_Sentence_length:\n",
    "            wordTokens = text_to_word_sequence(sent)#Converting sentences into words(similar function to .split())\n",
    "            #wordTokens is a list\n",
    "            k = 0\n",
    "            for _, word in enumerate(wordTokens):#Iterate through each word in the word token\n",
    "                if k < Max_Sequence_length and tokenizer.word_index[word] < Max_Words:\n",
    "                    Train_data[i, j, k] = tokenizer.word_index[word]\n",
    "                    k = k + 1\n",
    "                    \n",
    "Test_data = np.zeros((len(X_test), Max_Sentence_length, Max_Sequence_length), dtype='int32')\n",
    "\n",
    "for i, sentences in enumerate(X_test_sentences):#Taking a single review(list of sentences) from a list of reviews\n",
    "    for j, sent in enumerate(sentences):#Iterating through sentences within a review. sent = a sentence in a single review\n",
    "        if j < Max_Sentence_length:\n",
    "            wordTokens = text_to_word_sequence(sent)#Converting sentences into words(similar function to .split())\n",
    "            #wordTokens is a list\n",
    "            k = 0\n",
    "            for _, word in enumerate(wordTokens):#Iterate through each word in the word token\n",
    "                if k < Max_Sequence_length and tokenizer.word_index.get(word,0) < Max_Words:\n",
    "                    Test_data[i, j, k] = tokenizer.word_index.get(word,0)\n",
    "                    k = k + 1\n"
   ]
  },
  {
   "cell_type": "code",
   "execution_count": 9,
   "metadata": {},
   "outputs": [],
   "source": [
    "# Creating the labels\n",
    "Train_labels = np.array(Y_train)\n",
    "Test_labels = np.array(Y_test)"
   ]
  },
  {
   "cell_type": "code",
   "execution_count": 10,
   "metadata": {},
   "outputs": [
    {
     "name": "stdout",
     "output_type": "stream",
     "text": [
      "(20000, 15, 100) (20000,) (5000, 15, 100) (5000,)\n"
     ]
    }
   ],
   "source": [
    "# Splitting the training data into train and validation sets\n",
    "\n",
    "Validation_set_frac = 0.2\n",
    "\n",
    "Indices = np.arange(Train_data.shape[0])\n",
    "np.random.shuffle(Indices)\n",
    "\n",
    "X_train = Train_data[Indices]\n",
    "Y_train = Train_labels[Indices]\n",
    "\n",
    "Val_sample_size = int(Validation_set_frac*Train_data.shape[0]) # We use 20% of data for validation\n",
    "\n",
    "X_train = X_train[:-Val_sample_size]\n",
    "Y_train = Y_train[:-Val_sample_size]\n",
    "\n",
    "X_val = X_train[-Val_sample_size:]\n",
    "Y_val = Y_train[-Val_sample_size:]\n",
    "\n",
    "print(X_train.shape,Y_train.shape,X_val.shape,Y_val.shape)\n"
   ]
  },
  {
   "cell_type": "markdown",
   "metadata": {},
   "source": [
    "## Feature Engineering"
   ]
  },
  {
   "cell_type": "code",
   "execution_count": 11,
   "metadata": {},
   "outputs": [
    {
     "name": "stdout",
     "output_type": "stream",
     "text": [
      "Total 400000 word vectors in Glove 6B 100d.\n"
     ]
    }
   ],
   "source": [
    "# Loading the glove vector data\n",
    "\n",
    "embedding_dict = {}\n",
    "glove_file = open('../../../Data/Glove Data/glove.6B.100d.txt',encoding='utf8')\n",
    "for line in glove_file:\n",
    "    values = line.split()\n",
    "    word = values[0]\n",
    "    word_vec = np.asarray(values[1:], dtype='float32')\n",
    "    embedding_dict[word] = word_vec\n",
    "glove_file.close()\n",
    "\n",
    "print('Total %s word vectors in Glove 6B 100d.' % len(embedding_dict))"
   ]
  },
  {
   "cell_type": "code",
   "execution_count": 12,
   "metadata": {},
   "outputs": [],
   "source": [
    "# Creating an embedding layer with weights as glove vector embeddings\n",
    "\n",
    "weights = np.random.random((len(word_index) + 1, 100))\n",
    "\n",
    "for word, i in word_index.items():\n",
    "    word_vec = embedding_dict.get(word)\n",
    "    if word_vec is not None:\n",
    "        # words not found in embedding index will be all-zeros.\n",
    "        weights[i] = word_vec\n",
    "\n",
    "Embedding_input = Embedding(len(word_index) + 1, 100,weights=[weights], input_length=Max_Sequence_length,trainable=False)"
   ]
  },
  {
   "cell_type": "markdown",
   "metadata": {},
   "source": [
    "## HAN Model"
   ]
  },
  {
   "cell_type": "code",
   "execution_count": 24,
   "metadata": {},
   "outputs": [],
   "source": [
    "# HAN Model\n",
    "\n",
    "'''The HAN Model is implemented using the functional model APIs from Keras'''\n",
    "\n",
    "# We first build a custome keras layer that acts as an attention layer to calculate the importance of words within a sentence and \n",
    "# sentences within a review\n",
    "\n",
    "def dot_product(x, kernel):\n",
    "    \"\"\"\n",
    "    Wrapper for dot product operation, in order to be compatible with both\n",
    "    Theano and Tensorflow\n",
    "    Args:\n",
    "        x (): input\n",
    "        kernel (): weights\n",
    "    Returns:\n",
    "    \"\"\"\n",
    "    if K.backend() == 'tensorflow':\n",
    "        # todo: check that this is correct\n",
    "        return K.squeeze(K.dot(x, K.expand_dims(kernel)), axis=-1)\n",
    "    else:\n",
    "        return K.dot(x, kernel)\n",
    "\n",
    "\n",
    "\n",
    "class Attention(Layer):\n",
    "    def __init__(self,\n",
    "                 W_regularizer=None, b_regularizer=None,\n",
    "                 W_constraint=None, b_constraint=None,\n",
    "                 bias=True, **kwargs):\n",
    "        \"\"\"\n",
    "        Keras Layer that implements an Attention mechanism for temporal data.\n",
    "        Supports Masking.\n",
    "        Follows the work of Raffel et al. [https://arxiv.org/abs/1512.08756]\n",
    "        # Input shape\n",
    "            3D tensor with shape: `(samples, steps, features)`.\n",
    "        # Output shape\n",
    "            2D tensor with shape: `(samples, features)`.\n",
    "        :param kwargs:\n",
    "        Just put it on top of an RNN Layer (GRU/LSTM/SimpleRNN) with return_sequences=True.\n",
    "        The dimensions are inferred based on the output shape of the RNN.\n",
    "        Note: The layer has been tested with Keras 1.x\n",
    "        Example:\n",
    "            model.add(LSTM(64, return_sequences=True))\n",
    "            model.add(Attention())\n",
    "            # next add a Dense layer (for classification/regression) or whatever...\n",
    "        \"\"\"\n",
    "        self.supports_masking = True\n",
    "        self.init = initializers.get('glorot_uniform')\n",
    "\n",
    "        self.W_regularizer = regularizers.get(W_regularizer)\n",
    "        self.b_regularizer = regularizers.get(b_regularizer)\n",
    "\n",
    "        self.W_constraint = constraints.get(W_constraint)\n",
    "        self.b_constraint = constraints.get(b_constraint)\n",
    "\n",
    "        self.bias = bias\n",
    "        super(Attention, self).__init__(**kwargs)\n",
    "\n",
    "    def build(self, input_shape):\n",
    "        assert len(input_shape) == 3\n",
    "\n",
    "        self.W = self.add_weight((input_shape[-1],),\n",
    "                                 initializer=self.init,\n",
    "                                 name='{}_W'.format(self.name),\n",
    "                                 regularizer=self.W_regularizer,\n",
    "                                 constraint=self.W_constraint)\n",
    "        if self.bias:\n",
    "            self.b = self.add_weight((input_shape[1],),\n",
    "                                     initializer='zero',\n",
    "                                     name='{}_b'.format(self.name),\n",
    "                                     regularizer=self.b_regularizer,\n",
    "                                     constraint=self.b_constraint)\n",
    "        else:\n",
    "            self.b = None\n",
    "\n",
    "        #self.built = True\n",
    "        super(Attention, self).build(input_shape)\n",
    "\n",
    "    def compute_mask(self, input, input_mask=None):\n",
    "        # do not pass the mask to the next layers\n",
    "        return None\n",
    "\n",
    "    def call(self, x, mask=None):\n",
    "        eij = dot_product(x, self.W)\n",
    "\n",
    "        if self.bias:\n",
    "            eij += self.b\n",
    "\n",
    "        eij = K.tanh(eij)\n",
    "\n",
    "        a = K.exp(eij)\n",
    "\n",
    "        # apply mask after the exp. will be re-normalized next\n",
    "        if mask is not None:\n",
    "            # Cast the mask to floatX to avoid float64 upcasting in theano\n",
    "            a *= K.cast(mask, K.floatx())\n",
    "\n",
    "        # in some cases especially in the early stages of training the sum may be almost zero\n",
    "        # and this results in NaN's. A workaround is to add a very small positive number ε to the sum.\n",
    "        # a /= K.cast(K.sum(a, axis=1, keepdims=True), K.floatx())\n",
    "        a /= K.cast(K.sum(a, axis=1, keepdims=True) + K.epsilon(), K.floatx())\n",
    "\n",
    "        a = K.expand_dims(a)\n",
    "        weighted_input = x * a\n",
    "        return K.sum(weighted_input, axis=1)\n",
    "\n",
    "    def compute_output_shape(self, input_shape):\n",
    "        return input_shape[0], input_shape[-1]\n",
    "\n",
    "Input_layer_sentence = Input(shape=(Max_Sequence_length,), dtype='int32')\n",
    "Embedding_layer = Embedding_input(Input_layer_sentence)\n",
    "LSTM_layer = Bidirectional(GRU(100, return_sequences=True))(Embedding_layer)\n",
    "Attention_layer_word = Attention()(LSTM_layer)\n",
    "Sentence_Encoder_layer = Model(Input_layer_sentence, Attention_layer_word)\n",
    "\n",
    "Input_layer_review = Input(shape=(Max_Sentence_length, Max_Sequence_length), dtype='int32')\n",
    "Review_Encoder_layer = TimeDistributed(Sentence_Encoder_layer)(Input_layer_review)\n",
    "LSTM_layer_sentence = Bidirectional(GRU(100, return_sequences=True))(Review_Encoder_layer)\n",
    "#l_dense_sent = TimeDistributed(Dense(200))(l_lstm_sent)\n",
    "Attention_layer_sentence = Attention()(LSTM_layer_sentence)\n",
    "Output_layer = Dense(1, activation='sigmoid')(Attention_layer_sentence)\n",
    "\n",
    "HAN_model = Model(inputs=Input_layer_review,outputs=Output_layer)\n",
    "\n",
    "HAN_model.compile(loss = 'binary_crossentropy', optimizer='adam', metrics=['accuracy'])"
   ]
  },
  {
   "cell_type": "code",
   "execution_count": 25,
   "metadata": {},
   "outputs": [],
   "source": [
    "# Creating callback to measure time per epoch during training\n",
    "class TimeHistory(keras.callbacks.Callback):\n",
    "    def on_train_begin(self, logs={}):\n",
    "        self.times = []\n",
    "\n",
    "    def on_epoch_begin(self, batch, logs={}):\n",
    "        self.epoch_time_start = time.time()\n",
    "\n",
    "    def on_epoch_end(self, batch, logs={}):\n",
    "        self.times.append(time.time() - self.epoch_time_start)\n",
    "\n",
    "Time_callback = TimeHistory()\n",
    "\n",
    "# Creating a callback for Earlystopping\n",
    "Early_Stopping = EarlyStopping(monitor='val_loss', min_delta=0, patience=5, verbose=1, mode='auto')"
   ]
  },
  {
   "cell_type": "code",
   "execution_count": 26,
   "metadata": {},
   "outputs": [
    {
     "name": "stdout",
     "output_type": "stream",
     "text": [
      "Train on 20000 samples, validate on 5000 samples\n",
      "Epoch 1/20\n",
      "20000/20000 [==============================] - 28s 1ms/step - loss: 0.7182 - acc: 0.5039 - val_loss: 0.6872 - val_acc: 0.5028\n",
      "Epoch 2/20\n",
      "20000/20000 [==============================] - 24s 1ms/step - loss: 0.6735 - acc: 0.6112 - val_loss: 0.6478 - val_acc: 0.6760\n",
      "Epoch 3/20\n",
      "20000/20000 [==============================] - 24s 1ms/step - loss: 0.5714 - acc: 0.7152 - val_loss: 0.5029 - val_acc: 0.7590\n",
      "Epoch 4/20\n",
      "20000/20000 [==============================] - 24s 1ms/step - loss: 0.4723 - acc: 0.7773 - val_loss: 0.4607 - val_acc: 0.7818\n",
      "Epoch 5/20\n",
      "20000/20000 [==============================] - 24s 1ms/step - loss: 0.4180 - acc: 0.8107 - val_loss: 0.4035 - val_acc: 0.8220\n",
      "Epoch 6/20\n",
      "20000/20000 [==============================] - 24s 1ms/step - loss: 0.3938 - acc: 0.8238 - val_loss: 0.3975 - val_acc: 0.8238\n",
      "Epoch 7/20\n",
      "20000/20000 [==============================] - 24s 1ms/step - loss: 0.3700 - acc: 0.8366 - val_loss: 0.3590 - val_acc: 0.8432\n",
      "Epoch 8/20\n",
      "20000/20000 [==============================] - 24s 1ms/step - loss: 0.3605 - acc: 0.8420 - val_loss: 0.3504 - val_acc: 0.8464\n",
      "Epoch 9/20\n",
      "20000/20000 [==============================] - 24s 1ms/step - loss: 0.3393 - acc: 0.8559 - val_loss: 0.3418 - val_acc: 0.8498\n",
      "Epoch 10/20\n",
      "20000/20000 [==============================] - 24s 1ms/step - loss: 0.3288 - acc: 0.8579 - val_loss: 0.3230 - val_acc: 0.8578\n",
      "Epoch 11/20\n",
      "20000/20000 [==============================] - 24s 1ms/step - loss: 0.3166 - acc: 0.8657 - val_loss: 0.3115 - val_acc: 0.8696\n",
      "Epoch 12/20\n",
      "20000/20000 [==============================] - 24s 1ms/step - loss: 0.3163 - acc: 0.8645 - val_loss: 0.3073 - val_acc: 0.8666\n",
      "Epoch 13/20\n",
      "20000/20000 [==============================] - 24s 1ms/step - loss: 0.3052 - acc: 0.8706 - val_loss: 0.2932 - val_acc: 0.8754\n",
      "Epoch 14/20\n",
      "20000/20000 [==============================] - 24s 1ms/step - loss: 0.2878 - acc: 0.8795 - val_loss: 0.2912 - val_acc: 0.8772\n",
      "Epoch 15/20\n",
      "20000/20000 [==============================] - 24s 1ms/step - loss: 0.2812 - acc: 0.8810 - val_loss: 0.2859 - val_acc: 0.8776\n",
      "Epoch 16/20\n",
      "20000/20000 [==============================] - 24s 1ms/step - loss: 0.2757 - acc: 0.8850 - val_loss: 0.2864 - val_acc: 0.8772\n",
      "Epoch 17/20\n",
      "20000/20000 [==============================] - 24s 1ms/step - loss: 0.2639 - acc: 0.8926 - val_loss: 0.2547 - val_acc: 0.8950\n",
      "Epoch 18/20\n",
      "20000/20000 [==============================] - 24s 1ms/step - loss: 0.2551 - acc: 0.8963 - val_loss: 0.2602 - val_acc: 0.8926\n",
      "Epoch 19/20\n",
      "20000/20000 [==============================] - 24s 1ms/step - loss: 0.2613 - acc: 0.8919 - val_loss: 0.2551 - val_acc: 0.8932\n",
      "Epoch 20/20\n",
      "20000/20000 [==============================] - 24s 1ms/step - loss: 0.2400 - acc: 0.9027 - val_loss: 0.2424 - val_acc: 0.8994\n"
     ]
    }
   ],
   "source": [
    "HAN_Training = HAN_model.fit(X_train,Y_train, validation_data = (X_val, Y_val), epochs = 20, batch_size = 500, callbacks = [Time_callback, Early_Stopping])\n"
   ]
  },
  {
   "cell_type": "code",
   "execution_count": 27,
   "metadata": {},
   "outputs": [],
   "source": [
    "# Saving the model to disk\n",
    "HAN_model.save('HAN_model.h5')\n",
    "\n",
    "# Saving the model configuration file to disk\n",
    "HAN_model_json = HAN_model.to_json()\n",
    "with open(\"HAN_model.json\", \"w\") as json_file:\n",
    "    json_file.write(HAN_model_json)"
   ]
  },
  {
   "cell_type": "markdown",
   "metadata": {},
   "source": [
    "## Model Performance Metrics"
   ]
  },
  {
   "cell_type": "code",
   "execution_count": 32,
   "metadata": {},
   "outputs": [
    {
     "data": {
      "image/png": "[encoded data removed]",
      "text/plain": [
       "<Figure size 432x288 with 1 Axes>"
      ]
     },
     "metadata": {
      "needs_background": "light"
     },
     "output_type": "display_data"
    }
   ],
   "source": [
    "# Plotting the training/validation loss across epochs\n",
    "\n",
    "figure1 = plt.figure()\n",
    "plt.plot(HAN_Training.history['loss'],'r',linewidth=2.0)\n",
    "plt.plot(HAN_Training.history['val_loss'],'g',linewidth=2.0)\n",
    "epochs = list(range(1,len(Time_callback.times)+1))\n",
    "plt.legend(['Training Loss','Validation Loss'],fontsize=14)\n",
    "plt.xlabel('Epochs ',fontsize=16)\n",
    "plt.ylabel('Loss',fontsize=16)\n",
    "plt.xticks(list(range(0,len(Time_callback.times)+1,2)))\n",
    "#plt.ylim(0,0.6)\n",
    "#plt.xlim(0,4)\n",
    "plt.title('Loss across epochs : HAN',fontsize=16)\n",
    "figure1.savefig('./Performance Graphs/HAN_model_Loss_Graph.png')\n",
    "plt.show()"
   ]
  },
  {
   "cell_type": "code",
   "execution_count": 33,
   "metadata": {},
   "outputs": [
    {
     "data": {
      "image/png": "[encoded data removed]",
      "text/plain": [
       "<Figure size 432x288 with 1 Axes>"
      ]
     },
     "metadata": {
      "needs_background": "light"
     },
     "output_type": "display_data"
    }
   ],
   "source": [
    "# Plotting the training/validation accuracy across epochs\n",
    "\n",
    "figure2 = plt.figure()\n",
    "plt.plot(HAN_Training.history['acc'],'r',linewidth=2.0)\n",
    "plt.plot(HAN_Training.history['val_acc'],'g',linewidth=2.0)\n",
    "epochs = list(range(1,len(Time_callback.times)+1))\n",
    "plt.legend(['Training Accuracy','Validation Accuracy'], fontsize=14)\n",
    "plt.xlabel('Epochs ',fontsize=16)\n",
    "plt.ylabel('Accuracy',fontsize=16)\n",
    "plt.xticks(list(range(0,len(Time_callback.times)+1,2)))\n",
    "#plt.ylim(0.4,1.0)\n",
    "#plt.xlim(0,4)\n",
    "plt.title('Accuracy across epochs : HAN',fontsize=16)\n",
    "figure2.savefig('./Performance Graphs/HAN_model_Accuracy_Graph.png')\n",
    "plt.show()"
   ]
  },
  {
   "cell_type": "code",
   "execution_count": 34,
   "metadata": {},
   "outputs": [
    {
     "data": {
      "image/png": "[encoded data removed]",
      "text/plain": [
       "<Figure size 432x288 with 1 Axes>"
      ]
     },
     "metadata": {
      "needs_background": "light"
     },
     "output_type": "display_data"
    }
   ],
   "source": [
    "# Plotting the time taken per epoch\n",
    "\n",
    "figure3 = plt.figure()\n",
    "epochs = list(range(1,len(Time_callback.times)+1))\n",
    "time_per_epoch = Time_callback.times\n",
    "index = np.arange(len(epochs))\n",
    "\n",
    "plt.bar(index, time_per_epoch)\n",
    "plt.xlabel('Epochs', fontsize=16)\n",
    "plt.ylabel('Training time', fontsize=16)\n",
    "plt.xticks(list(range(0,len(epochs)+1,2)))\n",
    "plt.title('Training time across epochs : HAN', fontsize = 16)\n",
    "figure3.savefig('./Performance Graphs/HAN_model_Training_Time_Graph.png')\n",
    "plt.show()\n"
   ]
  }
 ],
 "metadata": {
  "kernelspec": {
   "display_name": "Python 3",
   "language": "python",
   "name": "python3"
  },
  "language_info": {
   "codemirror_mode": {
    "name": "ipython",
    "version": 3
   },
   "file_extension": ".py",
   "mimetype": "text/x-python",
   "name": "python",
   "nbconvert_exporter": "python",
   "pygments_lexer": "ipython3",
   "version": "3.6.8"
  }
 },
 "nbformat": 4,
 "nbformat_minor": 2
}
