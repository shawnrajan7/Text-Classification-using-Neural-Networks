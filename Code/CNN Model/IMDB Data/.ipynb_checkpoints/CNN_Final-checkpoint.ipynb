{
 "cells": [
  {
   "cell_type": "markdown",
   "metadata": {},
   "source": [
    "## Importing required libraries\n"
   ]
  },
  {
   "cell_type": "code",
   "execution_count": 1,
   "metadata": {},
   "outputs": [
    {
     "name": "stderr",
     "output_type": "stream",
     "text": [
      "/Users/Shawn/anaconda3/lib/python3.6/site-packages/h5py/__init__.py:36: FutureWarning: Conversion of the second argument of issubdtype from `float` to `np.floating` is deprecated. In future, it will be treated as `np.float64 == np.dtype(float).type`.\n",
      "  from ._conv import register_converters as _register_converters\n",
      "Using Theano backend.\n"
     ]
    }
   ],
   "source": [
    "# Importing the relevant libraries\n",
    "import numpy as np\n",
    "\n",
    "from keras.preprocessing.text import Tokenizer\n",
    "from keras.preprocessing.sequence import pad_sequences\n",
    "from keras.layers import Embedding, Input, Dense, Flatten, Conv1D, MaxPooling1D, Dropout\n",
    "from keras.models import load_model\n",
    "from keras.models import Model\n",
    "from keras.layers.merge import concatenate\n",
    "from keras.callbacks import ModelCheckpoint, EarlyStopping\n",
    "import keras.callbacks\n",
    "\n",
    "import string\n",
    "import re\n",
    "import pandas as pd\n",
    "import collections\n",
    "import os\n",
    "import time\n",
    "\n",
    "import matplotlib.pyplot as plt\n",
    "plt.switch_backend('agg')\n",
    "%matplotlib inline"
   ]
  },
  {
   "cell_type": "markdown",
   "metadata": {},
   "source": [
    "## Data Load"
   ]
  },
  {
   "cell_type": "code",
   "execution_count": 2,
   "metadata": {},
   "outputs": [],
   "source": [
    "# We define a function to load the data\n",
    "def load_data(path_to_dir, dataset):\n",
    "    \n",
    "    '''\n",
    "    The loading procedure is different for the two datasets, therefore we add a parameter to the load \n",
    "    function that specifies the dataset to load\n",
    "    '''\n",
    "    \n",
    "    # Regular Expression to remove punctuation\n",
    "    Remove_punctuation = re.compile('[%s]' % re.escape(string.punctuation))\n",
    "    \n",
    "    if dataset == \"imdb\":\n",
    "        \n",
    "        train_pos = []\n",
    "        train_neg = []\n",
    "        test_pos = []\n",
    "        test_neg = []\n",
    "\n",
    "        for filename in os.listdir(path_to_dir+\"/train/pos/\"):\n",
    "            train_pos.append(open(path_to_dir+\"/train/pos/\"+filename,'r',encoding='utf-8').read())\n",
    "\n",
    "        for filename in os.listdir(path_to_dir+\"/train/neg/\"):\n",
    "            train_neg.append(open(path_to_dir+\"/train/neg/\"+filename,'r',encoding='utf-8').read())\n",
    "\n",
    "        for filename in os.listdir(path_to_dir+\"/test/pos/\"):\n",
    "            test_pos.append(open(path_to_dir+\"/test/pos/\"+filename,'r',encoding='utf-8').read())\n",
    "\n",
    "        for filename in os.listdir(path_to_dir+\"/test/neg/\"):\n",
    "            test_neg.append(open(path_to_dir+\"/test/neg/\"+filename,'r',encoding='utf-8').read())\n",
    "        \n",
    "        train_pos = [Remove_punctuation.sub('',i).lower().split() for i in train_pos]\n",
    "        train_neg = [Remove_punctuation.sub('',i).lower().split() for i in train_neg]\n",
    "        test_pos = [Remove_punctuation.sub('',i).lower().split() for i in test_pos]\n",
    "        test_neg = [Remove_punctuation.sub('',i).lower().split() for i in test_neg]\n",
    "        \n",
    "        X_train = train_pos + train_neg\n",
    "        X_test = test_pos + test_neg\n",
    "        \n",
    "        Y_train = [1]*len(train_pos) + [0]*len(train_neg)\n",
    "        Y_test = [1]*len(test_pos) + [0]*len(test_neg)        \n",
    "        \n",
    "        return X_train, Y_train, X_test, Y_test\n",
    "        \n",
    "    if dataset == \"yelp\":\n",
    "        \n",
    "        Train_data = pd.read_csv(path_to_dir + \"Yelp_train_data.csv\")\n",
    "        Train_data = Train_data[Train_data['stars']!=3]\n",
    "        \n",
    "        X_train = Train_data['text']\n",
    "        X_train = list(X_train)\n",
    "        \n",
    "        Y_train = Train_data['stars']\n",
    "        Y_train = list(Y_train)\n",
    "        Y_train = [0 if i <= 3 else 1 for i in Y_train]\n",
    "        \n",
    "        Test_data =  pd.read_csv(path_to_dir + \"Yelp_test_data.csv\")\n",
    "        Test_data = Test_data[Test_data['stars']!=3]\n",
    "        \n",
    "        X_test = Test_data['text']\n",
    "        X_test = list(X_test)\n",
    "        \n",
    "        Y_test = Test_data['stars']\n",
    "        Y_test = list(Y_test)\n",
    "        Y_test = [0 if i <=3 else 1 for i in Y_test]\n",
    "        \n",
    "        X_train = [Remove_punctuation.sub('',i).lower().split() for i in X_train]\n",
    "        X_test = [Remove_punctuation.sub('',i).lower().split() for i in X_test]\n",
    "               \n",
    "        return X_train, Y_train, X_test, Y_test  \n"
   ]
  },
  {
   "cell_type": "code",
   "execution_count": 3,
   "metadata": {},
   "outputs": [],
   "source": [
    "X_train, Y_train, X_test, Y_test = load_data('../../../Data/IMDB Stanford/', \"imdb\")"
   ]
  },
  {
   "cell_type": "markdown",
   "metadata": {},
   "source": [
    "## Data Pre Processing"
   ]
  },
  {
   "cell_type": "code",
   "execution_count": 4,
   "metadata": {},
   "outputs": [],
   "source": [
    "def stopwords(corpus, proportion = 0.5):\n",
    "    \n",
    "    ''' This function is built to identify stopwords specific to the dataset in question\n",
    "    '''\n",
    "    unique_sent_words = [list(set(sentence)) for sentence in corpus]\n",
    "    flattened_word_list = [item for sublist in unique_sent_words for item in sublist]\n",
    "    doc_count = dict(collections.Counter(flattened_word_list))\n",
    "    stopwords = [key for key, value in doc_count.items() if value >= proportion * len(corpus)]\n",
    "    \n",
    "    return set(stopwords)\n"
   ]
  },
  {
   "cell_type": "code",
   "execution_count": 5,
   "metadata": {},
   "outputs": [],
   "source": [
    "stopwords_list = stopwords(X_train, proportion=0.4)"
   ]
  },
  {
   "cell_type": "code",
   "execution_count": 6,
   "metadata": {},
   "outputs": [],
   "source": [
    "# Removing stopwords from the training data\n",
    "\n",
    "X_train = [[word for word in data if word not in stopwords_list] for data in X_train]"
   ]
  },
  {
   "cell_type": "code",
   "execution_count": 7,
   "metadata": {},
   "outputs": [],
   "source": [
    "# Setting up parameters for the word embeddings\n",
    "\n",
    "Max_Words = 20000 #Max words in the vocabulary\n",
    "Max_Sequence_length = 1000 #Max number of words in a review\n",
    "Embedding_dimension = 100 #Using 100 dimensional Glove data\n"
   ]
  },
  {
   "cell_type": "code",
   "execution_count": 8,
   "metadata": {},
   "outputs": [],
   "source": [
    "# Converting the words into tokens\n",
    "\n",
    "tokenizer = Tokenizer()\n",
    "tokenizer.fit_on_texts(X_train)\n",
    "data_sequence_train = tokenizer.texts_to_sequences(X_train)\n",
    "data_sequence_test = tokenizer.texts_to_sequences(X_test)\n",
    "word_index = tokenizer.word_index"
   ]
  },
  {
   "cell_type": "code",
   "execution_count": 9,
   "metadata": {},
   "outputs": [],
   "source": [
    "# Padding the Train and Test data\n",
    "\n",
    "Train_data = pad_sequences(data_sequence_train, maxlen = Max_Sequence_length)\n",
    "Test_data = pad_sequences(data_sequence_test, maxlen = Max_Sequence_length)\n",
    "\n",
    "# Creating the labels\n",
    "Train_labels = np.array(Y_train)\n",
    "Test_labels = np.array(Y_test)"
   ]
  },
  {
   "cell_type": "code",
   "execution_count": 10,
   "metadata": {},
   "outputs": [
    {
     "name": "stdout",
     "output_type": "stream",
     "text": [
      "(20000, 1000) (20000,) (5000, 1000) (5000,)\n"
     ]
    }
   ],
   "source": [
    "# Splitting the training data into train and validation sets\n",
    "\n",
    "Validation_set_frac = 0.2\n",
    "\n",
    "Indices = np.arange(Train_data.shape[0])\n",
    "np.random.shuffle(Indices)\n",
    "\n",
    "X_train = Train_data[Indices]\n",
    "Y_train = Train_labels[Indices]\n",
    "\n",
    "Val_sample_size = int(Validation_set_frac*Train_data.shape[0]) # We use 20% of data for validation\n",
    "\n",
    "X_train = X_train[:-Val_sample_size]\n",
    "Y_train = Y_train[:-Val_sample_size]\n",
    "\n",
    "X_val = X_train[-Val_sample_size:]\n",
    "Y_val = Y_train[-Val_sample_size:]\n",
    "\n",
    "print(X_train.shape,Y_train.shape,X_val.shape,Y_val.shape)\n"
   ]
  },
  {
   "cell_type": "markdown",
   "metadata": {},
   "source": [
    "## Feature engineering"
   ]
  },
  {
   "cell_type": "code",
   "execution_count": 11,
   "metadata": {},
   "outputs": [
    {
     "name": "stdout",
     "output_type": "stream",
     "text": [
      "Total 400000 word vectors in Glove 6B 100d.\n"
     ]
    }
   ],
   "source": [
    "# Loading the glove vector data\n",
    "\n",
    "embedding_dict = {}\n",
    "glove_file = open('../../../Data/Glove Data/glove.6B.100d.txt',encoding='utf8')\n",
    "for line in glove_file:\n",
    "    values = line.split()\n",
    "    word = values[0]\n",
    "    word_vec = np.asarray(values[1:], dtype='float32')\n",
    "    embedding_dict[word] = word_vec\n",
    "glove_file.close()\n",
    "\n",
    "print('Total %s word vectors in Glove 6B 100d.' % len(embedding_dict))"
   ]
  },
  {
   "cell_type": "code",
   "execution_count": 12,
   "metadata": {},
   "outputs": [],
   "source": [
    "# Creating an embedding layer with weights as glove vector embeddings\n",
    "\n",
    "weights = np.random.random((len(word_index) + 1, 100))\n",
    "\n",
    "for word, i in word_index.items():\n",
    "    word_vec = embedding_dict.get(word)\n",
    "    if word_vec is not None:\n",
    "        # words not found in embedding index will be all-zeros.\n",
    "        weights[i] = word_vec\n",
    "\n",
    "Embedding_input = Embedding(len(word_index) + 1, 100,weights=[weights], input_length=Max_Sequence_length,trainable=False)"
   ]
  },
  {
   "cell_type": "markdown",
   "metadata": {},
   "source": [
    "## CNN Model "
   ]
  },
  {
   "cell_type": "code",
   "execution_count": 13,
   "metadata": {},
   "outputs": [
    {
     "name": "stdout",
     "output_type": "stream",
     "text": [
      "WARNING:tensorflow:From C:\\ProgramData\\Anaconda3\\lib\\site-packages\\tensorflow\\python\\framework\\op_def_library.py:263: colocate_with (from tensorflow.python.framework.ops) is deprecated and will be removed in a future version.\n",
      "Instructions for updating:\n",
      "Colocations handled automatically by placer.\n",
      "WARNING:tensorflow:From C:\\ProgramData\\Anaconda3\\lib\\site-packages\\keras\\backend\\tensorflow_backend.py:3445: calling dropout (from tensorflow.python.ops.nn_ops) with keep_prob is deprecated and will be removed in a future version.\n",
      "Instructions for updating:\n",
      "Please use `rate` instead of `keep_prob`. Rate should be set to `rate = 1 - keep_prob`.\n"
     ]
    }
   ],
   "source": [
    "# CNN Model\n",
    "\n",
    "'''The CNN Model is implemented using the functional model APIs from Keras'''\n",
    "\n",
    "Input_layer = Input(shape=(Max_Sequence_length,))\n",
    "Embedding_layer = Embedding_input(Input_layer)\n",
    "Conv_layer = Conv1D(filters=32, kernel_size=4, activation='relu')(Embedding_layer)\n",
    "Dropout_layer = Dropout(0.2)(Conv_layer)\n",
    "Maxpool_layer = MaxPooling1D(pool_size=2)(Dropout_layer)\n",
    "Flattened_layer = Flatten()(Maxpool_layer)\n",
    "Dense_layer = Dense(32, activation='relu')(Flattened_layer)\n",
    "Output_layer = Dense(1, activation='sigmoid')(Dense_layer)\n",
    "\n",
    "CNN_model = Model(inputs=Input_layer, outputs=Output_layer)\n",
    "\n",
    "CNN_model.compile(loss='binary_crossentropy', optimizer='adam', metrics=['accuracy'])"
   ]
  },
  {
   "cell_type": "code",
   "execution_count": 14,
   "metadata": {},
   "outputs": [],
   "source": [
    "# Creating callback to measure time per epoch during training\n",
    "class TimeHistory(keras.callbacks.Callback):\n",
    "    def on_train_begin(self, logs={}):\n",
    "        self.times = []\n",
    "\n",
    "    def on_epoch_begin(self, batch, logs={}):\n",
    "        self.epoch_time_start = time.time()\n",
    "\n",
    "    def on_epoch_end(self, batch, logs={}):\n",
    "        self.times.append(time.time() - self.epoch_time_start)\n",
    "\n",
    "Time_callback = TimeHistory()\n",
    "\n",
    "# Creating a callback for Earlystopping\n",
    "Early_Stopping = EarlyStopping(monitor='val_loss', min_delta=0, patience=10, verbose=1, mode='auto')"
   ]
  },
  {
   "cell_type": "code",
   "execution_count": 15,
   "metadata": {},
   "outputs": [
    {
     "name": "stdout",
     "output_type": "stream",
     "text": [
      "WARNING:tensorflow:From C:\\ProgramData\\Anaconda3\\lib\\site-packages\\tensorflow\\python\\ops\\math_ops.py:3066: to_int32 (from tensorflow.python.ops.math_ops) is deprecated and will be removed in a future version.\n",
      "Instructions for updating:\n",
      "Use tf.cast instead.\n",
      "Train on 20000 samples, validate on 5000 samples\n",
      "Epoch 1/20\n",
      "20000/20000 [==============================] - 3s 151us/step - loss: 1.0464 - acc: 0.4995 - val_loss: 0.6929 - val_acc: 0.5030\n",
      "Epoch 2/20\n",
      "20000/20000 [==============================] - 1s 49us/step - loss: 0.6929 - acc: 0.5088 - val_loss: 0.6927 - val_acc: 0.5028\n",
      "Epoch 3/20\n",
      "20000/20000 [==============================] - 1s 48us/step - loss: 0.6918 - acc: 0.5228 - val_loss: 0.6904 - val_acc: 0.5304\n",
      "Epoch 4/20\n",
      "20000/20000 [==============================] - 1s 48us/step - loss: 0.6874 - acc: 0.5561 - val_loss: 0.6767 - val_acc: 0.5756\n",
      "Epoch 5/20\n",
      "20000/20000 [==============================] - 1s 48us/step - loss: 0.6069 - acc: 0.6733 - val_loss: 0.5665 - val_acc: 0.7114\n",
      "Epoch 6/20\n",
      "20000/20000 [==============================] - 1s 48us/step - loss: 0.4972 - acc: 0.7653 - val_loss: 0.4581 - val_acc: 0.7902\n",
      "Epoch 7/20\n",
      "20000/20000 [==============================] - 1s 48us/step - loss: 0.4394 - acc: 0.7996 - val_loss: 0.4279 - val_acc: 0.8118\n",
      "Epoch 8/20\n",
      "20000/20000 [==============================] - 1s 49us/step - loss: 0.4186 - acc: 0.8116 - val_loss: 0.3937 - val_acc: 0.8282\n",
      "Epoch 9/20\n",
      "20000/20000 [==============================] - 1s 48us/step - loss: 0.3858 - acc: 0.8301 - val_loss: 0.3665 - val_acc: 0.8474\n",
      "Epoch 10/20\n",
      "20000/20000 [==============================] - 1s 49us/step - loss: 0.3693 - acc: 0.8388 - val_loss: 0.3472 - val_acc: 0.8580\n",
      "Epoch 11/20\n",
      "20000/20000 [==============================] - 1s 48us/step - loss: 0.3497 - acc: 0.8491 - val_loss: 0.3435 - val_acc: 0.8528\n",
      "Epoch 12/20\n",
      "20000/20000 [==============================] - 1s 48us/step - loss: 0.3355 - acc: 0.8552 - val_loss: 0.3136 - val_acc: 0.8722\n",
      "Epoch 13/20\n",
      "20000/20000 [==============================] - 1s 48us/step - loss: 0.3240 - acc: 0.8615 - val_loss: 0.3004 - val_acc: 0.8792\n",
      "Epoch 14/20\n",
      "20000/20000 [==============================] - 1s 49us/step - loss: 0.3154 - acc: 0.8629 - val_loss: 0.2848 - val_acc: 0.8868\n",
      "Epoch 15/20\n",
      "20000/20000 [==============================] - 1s 48us/step - loss: 0.2970 - acc: 0.8765 - val_loss: 0.2730 - val_acc: 0.8936\n",
      "Epoch 16/20\n",
      "20000/20000 [==============================] - 1s 49us/step - loss: 0.2889 - acc: 0.8791 - val_loss: 0.2879 - val_acc: 0.8764\n",
      "Epoch 17/20\n",
      "20000/20000 [==============================] - 1s 48us/step - loss: 0.2860 - acc: 0.8809 - val_loss: 0.2543 - val_acc: 0.9040\n",
      "Epoch 18/20\n",
      "20000/20000 [==============================] - 1s 49us/step - loss: 0.2845 - acc: 0.8827 - val_loss: 0.2445 - val_acc: 0.9100\n",
      "Epoch 19/20\n",
      "20000/20000 [==============================] - 1s 48us/step - loss: 0.2608 - acc: 0.8947 - val_loss: 0.2331 - val_acc: 0.9168\n",
      "Epoch 20/20\n",
      "20000/20000 [==============================] - 1s 49us/step - loss: 0.2504 - acc: 0.8989 - val_loss: 0.2293 - val_acc: 0.9136\n"
     ]
    }
   ],
   "source": [
    "# Fitting the model on the training data\n",
    "CNN_Training = CNN_model.fit(X_train,Y_train, validation_data = (X_val, Y_val), epochs = 20, batch_size = 500, callbacks = [Time_callback,Early_Stopping])\n"
   ]
  },
  {
   "cell_type": "code",
   "execution_count": 17,
   "metadata": {},
   "outputs": [],
   "source": [
    "# Saving the model to disk\n",
    "CNN_model.save('CNN_model.h5')\n",
    "\n",
    "# Saving the model configuration file to disk\n",
    "CNN_model_json = CNN_model.to_json()\n",
    "with open(\"CNN_model.json\", \"w\") as json_file:\n",
    "    json_file.write(CNN_model_json)"
   ]
  },
  {
   "cell_type": "markdown",
   "metadata": {},
   "source": [
    "## Model Performance Metrics"
   ]
  },
  {
   "cell_type": "code",
   "execution_count": 18,
   "metadata": {},
   "outputs": [
    {
     "data": {
      "image/png": "[encoded data removed]",
      "text/plain": [
       "<Figure size 432x288 with 1 Axes>"
      ]
     },
     "metadata": {
      "needs_background": "light"
     },
     "output_type": "display_data"
    }
   ],
   "source": [
    "# Plotting the training/validation loss across epochs\n",
    "\n",
    "figure1 = plt.figure()\n",
    "plt.plot(CNN_Training.history['loss'],'r',linewidth=2.0)\n",
    "plt.plot(CNN_Training.history['val_loss'],'g',linewidth=2.0)\n",
    "plt.legend(['Training Loss','Validation Loss'],fontsize=14)\n",
    "plt.xlabel('Epochs ',fontsize=16)\n",
    "plt.ylabel('Loss',fontsize=16)\n",
    "#plt.ylim(0,0.6)\n",
    "#plt.xlim(0,4)\n",
    "plt.title('Loss across epochs : CNN',fontsize=16)\n",
    "figure1.savefig('./Performance Graphs/CNN_model_Loss_Graph.png')\n",
    "plt.show()"
   ]
  },
  {
   "cell_type": "code",
   "execution_count": 19,
   "metadata": {},
   "outputs": [
    {
     "data": {
      "image/png": "[encoded data removed]",
      "text/plain": [
       "<Figure size 432x288 with 1 Axes>"
      ]
     },
     "metadata": {
      "needs_background": "light"
     },
     "output_type": "display_data"
    }
   ],
   "source": [
    "# Plotting the training/validation accuracy across epochs\n",
    "\n",
    "figure2 = plt.figure()\n",
    "plt.plot(CNN_Training.history['acc'],'r',linewidth=2.0)\n",
    "plt.plot(CNN_Training.history['val_acc'],'g',linewidth=2.0)\n",
    "plt.legend(['Training Accuracy','Validation Accuracy'], fontsize=14)\n",
    "plt.xlabel('Epochs ',fontsize=16)\n",
    "plt.ylabel('Accuracy',fontsize=16)\n",
    "#plt.ylim(0.4,1.0)\n",
    "#plt.xlim(0,4)\n",
    "plt.title('Accuracy across epochs : CNN',fontsize=16)\n",
    "figure2.savefig('./Performance Graphs/CNN_model_Accuracy_Graph.png')\n",
    "plt.show()"
   ]
  },
  {
   "cell_type": "code",
   "execution_count": 20,
   "metadata": {},
   "outputs": [
    {
     "data": {
      "image/png": "[encoded data removed]",
      "text/plain": [
       "<Figure size 432x288 with 1 Axes>"
      ]
     },
     "metadata": {
      "needs_background": "light"
     },
     "output_type": "display_data"
    }
   ],
   "source": [
    "# Plotting the time taken per epoch\n",
    "\n",
    "figure3 = plt.figure()\n",
    "epochs = list(range(1,len(Time_callback.times)+1))\n",
    "time_per_epoch = Time_callback.times\n",
    "index = np.arange(len(epochs))\n",
    "\n",
    "plt.bar(index, time_per_epoch)\n",
    "plt.xlabel('Epochs', fontsize=16)\n",
    "plt.ylabel('Training time', fontsize=16)\n",
    "plt.xticks(range(0,len(epochs)+1,5))\n",
    "plt.title('Training time across epochs : CNN', fontsize = 16)\n",
    "figure3.savefig('./Performance Graphs/CNN_model_Training_Time_Graph.png')\n",
    "plt.show()\n"
   ]
  }
 ],
 "metadata": {
  "kernelspec": {
   "display_name": "Python 3",
   "language": "python",
   "name": "python3"
  },
  "language_info": {
   "codemirror_mode": {
    "name": "ipython",
    "version": 3
   },
   "file_extension": ".py",
   "mimetype": "text/x-python",
   "name": "python",
   "nbconvert_exporter": "python",
   "pygments_lexer": "ipython3",
   "version": "3.6.8"
  }
 },
 "nbformat": 4,
 "nbformat_minor": 2
}
